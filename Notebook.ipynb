{
 "cells": [
  {
   "cell_type": "code",
   "execution_count": 1,
   "metadata": {},
   "outputs": [],
   "source": [
    "import numpy as np\n",
    "import pandas as pd\n",
    "import matplotlib.pyplot as plt\n",
    "import seaborn as sns"
   ]
  },
  {
   "cell_type": "code",
   "execution_count": 2,
   "metadata": {},
   "outputs": [],
   "source": [
    "import random"
   ]
  },
  {
   "cell_type": "code",
   "execution_count": 3,
   "metadata": {},
   "outputs": [],
   "source": [
    "random.seed(101)"
   ]
  },
  {
   "cell_type": "code",
   "execution_count": 4,
   "metadata": {},
   "outputs": [],
   "source": [
    "import datetime"
   ]
  },
  {
   "cell_type": "code",
   "execution_count": 5,
   "metadata": {},
   "outputs": [],
   "source": [
    "train = pd.read_csv('data/dataset/train.csv')\n",
    "test = pd.read_csv('data/dataset/test.csv')"
   ]
  },
  {
   "cell_type": "code",
   "execution_count": 6,
   "metadata": {},
   "outputs": [
    {
     "data": {
      "text/html": [
       "<div>\n",
       "<style scoped>\n",
       "    .dataframe tbody tr th:only-of-type {\n",
       "        vertical-align: middle;\n",
       "    }\n",
       "\n",
       "    .dataframe tbody tr th {\n",
       "        vertical-align: top;\n",
       "    }\n",
       "\n",
       "    .dataframe thead th {\n",
       "        text-align: right;\n",
       "    }\n",
       "</style>\n",
       "<table border=\"1\" class=\"dataframe\">\n",
       "  <thead>\n",
       "    <tr style=\"text-align: right;\">\n",
       "      <th></th>\n",
       "      <th>pet_id</th>\n",
       "      <th>issue_date</th>\n",
       "      <th>listing_date</th>\n",
       "      <th>condition</th>\n",
       "      <th>color_type</th>\n",
       "      <th>length(m)</th>\n",
       "      <th>height(cm)</th>\n",
       "      <th>X1</th>\n",
       "      <th>X2</th>\n",
       "      <th>breed_category</th>\n",
       "      <th>pet_category</th>\n",
       "    </tr>\n",
       "  </thead>\n",
       "  <tbody>\n",
       "    <tr>\n",
       "      <th>0</th>\n",
       "      <td>ANSL_69903</td>\n",
       "      <td>2016-07-10 00:00:00</td>\n",
       "      <td>2016-09-21 16:25:00</td>\n",
       "      <td>2.0</td>\n",
       "      <td>Brown Tabby</td>\n",
       "      <td>0.80</td>\n",
       "      <td>7.78</td>\n",
       "      <td>13</td>\n",
       "      <td>9</td>\n",
       "      <td>0.0</td>\n",
       "      <td>1</td>\n",
       "    </tr>\n",
       "    <tr>\n",
       "      <th>1</th>\n",
       "      <td>ANSL_66892</td>\n",
       "      <td>2013-11-21 00:00:00</td>\n",
       "      <td>2018-12-27 17:47:00</td>\n",
       "      <td>1.0</td>\n",
       "      <td>White</td>\n",
       "      <td>0.72</td>\n",
       "      <td>14.19</td>\n",
       "      <td>13</td>\n",
       "      <td>9</td>\n",
       "      <td>0.0</td>\n",
       "      <td>2</td>\n",
       "    </tr>\n",
       "    <tr>\n",
       "      <th>2</th>\n",
       "      <td>ANSL_69750</td>\n",
       "      <td>2014-09-28 00:00:00</td>\n",
       "      <td>2016-10-19 08:24:00</td>\n",
       "      <td>NaN</td>\n",
       "      <td>Brown</td>\n",
       "      <td>0.15</td>\n",
       "      <td>40.90</td>\n",
       "      <td>15</td>\n",
       "      <td>4</td>\n",
       "      <td>2.0</td>\n",
       "      <td>4</td>\n",
       "    </tr>\n",
       "    <tr>\n",
       "      <th>3</th>\n",
       "      <td>ANSL_71623</td>\n",
       "      <td>2016-12-31 00:00:00</td>\n",
       "      <td>2019-01-25 18:30:00</td>\n",
       "      <td>1.0</td>\n",
       "      <td>White</td>\n",
       "      <td>0.62</td>\n",
       "      <td>17.82</td>\n",
       "      <td>0</td>\n",
       "      <td>1</td>\n",
       "      <td>0.0</td>\n",
       "      <td>2</td>\n",
       "    </tr>\n",
       "    <tr>\n",
       "      <th>4</th>\n",
       "      <td>ANSL_57969</td>\n",
       "      <td>2017-09-28 00:00:00</td>\n",
       "      <td>2017-11-19 09:38:00</td>\n",
       "      <td>2.0</td>\n",
       "      <td>Black</td>\n",
       "      <td>0.50</td>\n",
       "      <td>11.06</td>\n",
       "      <td>18</td>\n",
       "      <td>4</td>\n",
       "      <td>0.0</td>\n",
       "      <td>1</td>\n",
       "    </tr>\n",
       "  </tbody>\n",
       "</table>\n",
       "</div>"
      ],
      "text/plain": [
       "       pet_id           issue_date         listing_date  condition  \\\n",
       "0  ANSL_69903  2016-07-10 00:00:00  2016-09-21 16:25:00        2.0   \n",
       "1  ANSL_66892  2013-11-21 00:00:00  2018-12-27 17:47:00        1.0   \n",
       "2  ANSL_69750  2014-09-28 00:00:00  2016-10-19 08:24:00        NaN   \n",
       "3  ANSL_71623  2016-12-31 00:00:00  2019-01-25 18:30:00        1.0   \n",
       "4  ANSL_57969  2017-09-28 00:00:00  2017-11-19 09:38:00        2.0   \n",
       "\n",
       "    color_type  length(m)  height(cm)  X1  X2  breed_category  pet_category  \n",
       "0  Brown Tabby       0.80        7.78  13   9             0.0             1  \n",
       "1        White       0.72       14.19  13   9             0.0             2  \n",
       "2        Brown       0.15       40.90  15   4             2.0             4  \n",
       "3        White       0.62       17.82   0   1             0.0             2  \n",
       "4        Black       0.50       11.06  18   4             0.0             1  "
      ]
     },
     "execution_count": 6,
     "metadata": {},
     "output_type": "execute_result"
    }
   ],
   "source": [
    "train.head()"
   ]
  },
  {
   "cell_type": "code",
   "execution_count": 7,
   "metadata": {},
   "outputs": [
    {
     "name": "stdout",
     "output_type": "stream",
     "text": [
      "<class 'pandas.core.frame.DataFrame'>\n",
      "RangeIndex: 18834 entries, 0 to 18833\n",
      "Data columns (total 11 columns):\n",
      " #   Column          Non-Null Count  Dtype  \n",
      "---  ------          --------------  -----  \n",
      " 0   pet_id          18834 non-null  object \n",
      " 1   issue_date      18834 non-null  object \n",
      " 2   listing_date    18834 non-null  object \n",
      " 3   condition       17357 non-null  float64\n",
      " 4   color_type      18834 non-null  object \n",
      " 5   length(m)       18834 non-null  float64\n",
      " 6   height(cm)      18834 non-null  float64\n",
      " 7   X1              18834 non-null  int64  \n",
      " 8   X2              18834 non-null  int64  \n",
      " 9   breed_category  18834 non-null  float64\n",
      " 10  pet_category    18834 non-null  int64  \n",
      "dtypes: float64(4), int64(3), object(4)\n",
      "memory usage: 1.6+ MB\n"
     ]
    }
   ],
   "source": [
    "train.info()"
   ]
  },
  {
   "cell_type": "code",
   "execution_count": 8,
   "metadata": {},
   "outputs": [
    {
     "data": {
      "text/html": [
       "<div>\n",
       "<style scoped>\n",
       "    .dataframe tbody tr th:only-of-type {\n",
       "        vertical-align: middle;\n",
       "    }\n",
       "\n",
       "    .dataframe tbody tr th {\n",
       "        vertical-align: top;\n",
       "    }\n",
       "\n",
       "    .dataframe thead th {\n",
       "        text-align: right;\n",
       "    }\n",
       "</style>\n",
       "<table border=\"1\" class=\"dataframe\">\n",
       "  <thead>\n",
       "    <tr style=\"text-align: right;\">\n",
       "      <th></th>\n",
       "      <th>condition</th>\n",
       "      <th>length(m)</th>\n",
       "      <th>height(cm)</th>\n",
       "      <th>X1</th>\n",
       "      <th>X2</th>\n",
       "      <th>breed_category</th>\n",
       "      <th>pet_category</th>\n",
       "    </tr>\n",
       "  </thead>\n",
       "  <tbody>\n",
       "    <tr>\n",
       "      <th>condition</th>\n",
       "      <td>1.000000</td>\n",
       "      <td>-0.011219</td>\n",
       "      <td>-0.010793</td>\n",
       "      <td>0.338843</td>\n",
       "      <td>0.381696</td>\n",
       "      <td>-0.483503</td>\n",
       "      <td>-0.041660</td>\n",
       "    </tr>\n",
       "    <tr>\n",
       "      <th>length(m)</th>\n",
       "      <td>-0.011219</td>\n",
       "      <td>1.000000</td>\n",
       "      <td>-0.004464</td>\n",
       "      <td>-0.002893</td>\n",
       "      <td>-0.011175</td>\n",
       "      <td>0.007229</td>\n",
       "      <td>-0.003999</td>\n",
       "    </tr>\n",
       "    <tr>\n",
       "      <th>height(cm)</th>\n",
       "      <td>-0.010793</td>\n",
       "      <td>-0.004464</td>\n",
       "      <td>1.000000</td>\n",
       "      <td>-0.003801</td>\n",
       "      <td>-0.008216</td>\n",
       "      <td>0.011647</td>\n",
       "      <td>0.001976</td>\n",
       "    </tr>\n",
       "    <tr>\n",
       "      <th>X1</th>\n",
       "      <td>0.338843</td>\n",
       "      <td>-0.002893</td>\n",
       "      <td>-0.003801</td>\n",
       "      <td>1.000000</td>\n",
       "      <td>0.584396</td>\n",
       "      <td>0.240729</td>\n",
       "      <td>-0.032594</td>\n",
       "    </tr>\n",
       "    <tr>\n",
       "      <th>X2</th>\n",
       "      <td>0.381696</td>\n",
       "      <td>-0.011175</td>\n",
       "      <td>-0.008216</td>\n",
       "      <td>0.584396</td>\n",
       "      <td>1.000000</td>\n",
       "      <td>0.052530</td>\n",
       "      <td>-0.032116</td>\n",
       "    </tr>\n",
       "    <tr>\n",
       "      <th>breed_category</th>\n",
       "      <td>-0.483503</td>\n",
       "      <td>0.007229</td>\n",
       "      <td>0.011647</td>\n",
       "      <td>0.240729</td>\n",
       "      <td>0.052530</td>\n",
       "      <td>1.000000</td>\n",
       "      <td>0.209230</td>\n",
       "    </tr>\n",
       "    <tr>\n",
       "      <th>pet_category</th>\n",
       "      <td>-0.041660</td>\n",
       "      <td>-0.003999</td>\n",
       "      <td>0.001976</td>\n",
       "      <td>-0.032594</td>\n",
       "      <td>-0.032116</td>\n",
       "      <td>0.209230</td>\n",
       "      <td>1.000000</td>\n",
       "    </tr>\n",
       "  </tbody>\n",
       "</table>\n",
       "</div>"
      ],
      "text/plain": [
       "                condition  length(m)  height(cm)        X1        X2  \\\n",
       "condition        1.000000  -0.011219   -0.010793  0.338843  0.381696   \n",
       "length(m)       -0.011219   1.000000   -0.004464 -0.002893 -0.011175   \n",
       "height(cm)      -0.010793  -0.004464    1.000000 -0.003801 -0.008216   \n",
       "X1               0.338843  -0.002893   -0.003801  1.000000  0.584396   \n",
       "X2               0.381696  -0.011175   -0.008216  0.584396  1.000000   \n",
       "breed_category  -0.483503   0.007229    0.011647  0.240729  0.052530   \n",
       "pet_category    -0.041660  -0.003999    0.001976 -0.032594 -0.032116   \n",
       "\n",
       "                breed_category  pet_category  \n",
       "condition            -0.483503     -0.041660  \n",
       "length(m)             0.007229     -0.003999  \n",
       "height(cm)            0.011647      0.001976  \n",
       "X1                    0.240729     -0.032594  \n",
       "X2                    0.052530     -0.032116  \n",
       "breed_category        1.000000      0.209230  \n",
       "pet_category          0.209230      1.000000  "
      ]
     },
     "execution_count": 8,
     "metadata": {},
     "output_type": "execute_result"
    }
   ],
   "source": [
    "train.corr()"
   ]
  },
  {
   "cell_type": "code",
   "execution_count": 9,
   "metadata": {},
   "outputs": [
    {
     "data": {
      "text/plain": [
       "2.0    1477\n",
       "Name: breed_category, dtype: int64"
      ]
     },
     "execution_count": 9,
     "metadata": {},
     "output_type": "execute_result"
    }
   ],
   "source": [
    "train[train[\"condition\"].isnull()][\"breed_category\"].value_counts()"
   ]
  },
  {
   "cell_type": "code",
   "execution_count": 10,
   "metadata": {},
   "outputs": [
    {
     "data": {
      "text/plain": [
       "4    783\n",
       "1    583\n",
       "2     60\n",
       "0     51\n",
       "Name: pet_category, dtype: int64"
      ]
     },
     "execution_count": 10,
     "metadata": {},
     "output_type": "execute_result"
    }
   ],
   "source": [
    "train[train[\"condition\"].isnull()][\"pet_category\"].value_counts()"
   ]
  },
  {
   "cell_type": "code",
   "execution_count": 11,
   "metadata": {},
   "outputs": [
    {
     "data": {
      "text/plain": [
       "X2  condition\n",
       "0   2.0             3\n",
       "    1.0             1\n",
       "1   1.0          4037\n",
       "    0.0          4029\n",
       "    2.0           406\n",
       "2   2.0           108\n",
       "    0.0            14\n",
       "    1.0            11\n",
       "3   2.0            11\n",
       "    0.0             1\n",
       "4   2.0           319\n",
       "    1.0           118\n",
       "    0.0            77\n",
       "5   2.0             9\n",
       "    0.0             2\n",
       "    1.0             1\n",
       "7   1.0          1489\n",
       "    0.0          1133\n",
       "    2.0           963\n",
       "8   1.0            29\n",
       "    0.0            25\n",
       "    2.0             4\n",
       "9   2.0          2434\n",
       "    1.0          1133\n",
       "    0.0          1000\n",
       "Name: condition, dtype: int64"
      ]
     },
     "execution_count": 11,
     "metadata": {},
     "output_type": "execute_result"
    }
   ],
   "source": [
    "train.groupby(train[\"X2\"])[\"condition\"].value_counts()"
   ]
  },
  {
   "cell_type": "code",
   "execution_count": 12,
   "metadata": {},
   "outputs": [],
   "source": [
    "impute_dict = {0:2.0,1:1.0,2:2.0,3:2.0,4:2.0,5:2.0,7:1.0,8:1.0,9:2.0}\n",
    "def impute(cols):\n",
    "    cond = cols[0]\n",
    "    x2 = cols[1]\n",
    "    \n",
    "    if pd.isnull(cond):\n",
    "        if x2 in impute_dict.keys():\n",
    "            return impute_dict[x2]\n",
    "        else:\n",
    "            return 1.0\n",
    "    else:\n",
    "        return cond"
   ]
  },
  {
   "cell_type": "code",
   "execution_count": 13,
   "metadata": {},
   "outputs": [],
   "source": [
    "train_data=train.drop(\"pet_id\",axis=1)\n",
    "test_data = test.drop(\"pet_id\",axis=1)"
   ]
  },
  {
   "cell_type": "code",
   "execution_count": 14,
   "metadata": {},
   "outputs": [],
   "source": [
    "train_data[\"issue_date\"]  = list(map(pd.Timestamp.date,list(map(pd.Timestamp,train_data[\"issue_date\"]))))\n",
    "test_data[\"issue_date\"]  = list(map(pd.Timestamp.date,list(map(pd.Timestamp,test_data[\"issue_date\"]))))"
   ]
  },
  {
   "cell_type": "code",
   "execution_count": 15,
   "metadata": {},
   "outputs": [],
   "source": [
    "train_data['list_date'] = list(map(pd.Timestamp.date,list(map(pd.Timestamp,train_data[\"listing_date\"]))))\n",
    "test_data['list_date'] = list(map(pd.Timestamp.date,list(map(pd.Timestamp,test_data[\"listing_date\"]))))"
   ]
  },
  {
   "cell_type": "code",
   "execution_count": 16,
   "metadata": {},
   "outputs": [],
   "source": [
    "train_data[\"gap_days\"] = train_data[\"list_date\"]-train_data[\"issue_date\"]\n",
    "test_data[\"gap_days\"] = test_data[\"list_date\"]-test_data[\"issue_date\"]"
   ]
  },
  {
   "cell_type": "code",
   "execution_count": 17,
   "metadata": {},
   "outputs": [],
   "source": [
    "train_data[\"gap_days\"]=train_data[\"gap_days\"].apply(lambda x: x.days)\n",
    "test_data[\"gap_days\"]=test_data[\"gap_days\"].apply(lambda x: x.days)"
   ]
  },
  {
   "cell_type": "code",
   "execution_count": 18,
   "metadata": {},
   "outputs": [],
   "source": [
    "def time_of_day(col):\n",
    "    hour = pd.Timestamp.time(pd.Timestamp(col)).hour\n",
    "    if hour in range(0,6,1):\n",
    "        return \"dawn\"\n",
    "    elif hour in range(6,12,1):\n",
    "        return \"morning\"\n",
    "    elif hour in range(12,18,1):\n",
    "        return \"afternoon\"\n",
    "    elif hour in range(18,24,1):\n",
    "        return \"night\""
   ]
  },
  {
   "cell_type": "code",
   "execution_count": 19,
   "metadata": {},
   "outputs": [],
   "source": [
    "train_data[\"time_of_day\"]=train_data[\"listing_date\"].apply(time_of_day)\n",
    "test_data[\"time_of_day\"]=test_data[\"listing_date\"].apply(time_of_day)"
   ]
  },
  {
   "cell_type": "code",
   "execution_count": 20,
   "metadata": {},
   "outputs": [],
   "source": [
    "train_data[\"list_year\"] = train_data[\"list_date\"].apply(lambda x: x.year)\n",
    "\n",
    "test_data[\"list_year\"] = test_data[\"list_date\"].apply(lambda x: x.year)"
   ]
  },
  {
   "cell_type": "code",
   "execution_count": 21,
   "metadata": {},
   "outputs": [],
   "source": [
    "train_data[\"list_season\"] = pd.cut(train_data[\"list_date\"].apply(lambda x: x.month),3,labels=[\"spring\",\"summer\",\"winter\"])\n",
    "\n",
    "test_data[\"list_season\"] = pd.cut(test_data[\"list_date\"].apply(lambda x: x.month), 3, labels=[\"spring\",\"summer\",\"winter\"])"
   ]
  },
  {
   "cell_type": "code",
   "execution_count": 22,
   "metadata": {},
   "outputs": [],
   "source": [
    "train_data[\"list_time_month\"] = pd.cut(train_data[\"list_date\"].apply(lambda x: x.day),4,labels=[\"w1\",\"w2\",\"w3\",\"w4\"])\n",
    "test_data[\"list_time_month\"] = pd.cut(test_data[\"list_date\"].apply(lambda x: x.day),4,labels=[\"w1\",\"w2\",\"w3\",\"w4\"])"
   ]
  },
  {
   "cell_type": "code",
   "execution_count": 23,
   "metadata": {},
   "outputs": [
    {
     "data": {
      "text/html": [
       "<div>\n",
       "<style scoped>\n",
       "    .dataframe tbody tr th:only-of-type {\n",
       "        vertical-align: middle;\n",
       "    }\n",
       "\n",
       "    .dataframe tbody tr th {\n",
       "        vertical-align: top;\n",
       "    }\n",
       "\n",
       "    .dataframe thead th {\n",
       "        text-align: right;\n",
       "    }\n",
       "</style>\n",
       "<table border=\"1\" class=\"dataframe\">\n",
       "  <thead>\n",
       "    <tr style=\"text-align: right;\">\n",
       "      <th></th>\n",
       "      <th>issue_date</th>\n",
       "      <th>listing_date</th>\n",
       "      <th>condition</th>\n",
       "      <th>color_type</th>\n",
       "      <th>length(m)</th>\n",
       "      <th>height(cm)</th>\n",
       "      <th>X1</th>\n",
       "      <th>X2</th>\n",
       "      <th>breed_category</th>\n",
       "      <th>pet_category</th>\n",
       "      <th>list_date</th>\n",
       "      <th>gap_days</th>\n",
       "      <th>time_of_day</th>\n",
       "      <th>list_year</th>\n",
       "      <th>list_season</th>\n",
       "      <th>list_time_month</th>\n",
       "    </tr>\n",
       "  </thead>\n",
       "  <tbody>\n",
       "    <tr>\n",
       "      <th>0</th>\n",
       "      <td>2016-07-10</td>\n",
       "      <td>2016-09-21 16:25:00</td>\n",
       "      <td>2.0</td>\n",
       "      <td>Brown Tabby</td>\n",
       "      <td>0.80</td>\n",
       "      <td>7.78</td>\n",
       "      <td>13</td>\n",
       "      <td>9</td>\n",
       "      <td>0.0</td>\n",
       "      <td>1</td>\n",
       "      <td>2016-09-21</td>\n",
       "      <td>73</td>\n",
       "      <td>afternoon</td>\n",
       "      <td>2016</td>\n",
       "      <td>winter</td>\n",
       "      <td>w3</td>\n",
       "    </tr>\n",
       "    <tr>\n",
       "      <th>1</th>\n",
       "      <td>2013-11-21</td>\n",
       "      <td>2018-12-27 17:47:00</td>\n",
       "      <td>1.0</td>\n",
       "      <td>White</td>\n",
       "      <td>0.72</td>\n",
       "      <td>14.19</td>\n",
       "      <td>13</td>\n",
       "      <td>9</td>\n",
       "      <td>0.0</td>\n",
       "      <td>2</td>\n",
       "      <td>2018-12-27</td>\n",
       "      <td>1862</td>\n",
       "      <td>afternoon</td>\n",
       "      <td>2018</td>\n",
       "      <td>winter</td>\n",
       "      <td>w4</td>\n",
       "    </tr>\n",
       "    <tr>\n",
       "      <th>2</th>\n",
       "      <td>2014-09-28</td>\n",
       "      <td>2016-10-19 08:24:00</td>\n",
       "      <td>NaN</td>\n",
       "      <td>Brown</td>\n",
       "      <td>0.15</td>\n",
       "      <td>40.90</td>\n",
       "      <td>15</td>\n",
       "      <td>4</td>\n",
       "      <td>2.0</td>\n",
       "      <td>4</td>\n",
       "      <td>2016-10-19</td>\n",
       "      <td>752</td>\n",
       "      <td>morning</td>\n",
       "      <td>2016</td>\n",
       "      <td>winter</td>\n",
       "      <td>w3</td>\n",
       "    </tr>\n",
       "    <tr>\n",
       "      <th>3</th>\n",
       "      <td>2016-12-31</td>\n",
       "      <td>2019-01-25 18:30:00</td>\n",
       "      <td>1.0</td>\n",
       "      <td>White</td>\n",
       "      <td>0.62</td>\n",
       "      <td>17.82</td>\n",
       "      <td>0</td>\n",
       "      <td>1</td>\n",
       "      <td>0.0</td>\n",
       "      <td>2</td>\n",
       "      <td>2019-01-25</td>\n",
       "      <td>755</td>\n",
       "      <td>night</td>\n",
       "      <td>2019</td>\n",
       "      <td>spring</td>\n",
       "      <td>w4</td>\n",
       "    </tr>\n",
       "    <tr>\n",
       "      <th>4</th>\n",
       "      <td>2017-09-28</td>\n",
       "      <td>2017-11-19 09:38:00</td>\n",
       "      <td>2.0</td>\n",
       "      <td>Black</td>\n",
       "      <td>0.50</td>\n",
       "      <td>11.06</td>\n",
       "      <td>18</td>\n",
       "      <td>4</td>\n",
       "      <td>0.0</td>\n",
       "      <td>1</td>\n",
       "      <td>2017-11-19</td>\n",
       "      <td>52</td>\n",
       "      <td>morning</td>\n",
       "      <td>2017</td>\n",
       "      <td>winter</td>\n",
       "      <td>w3</td>\n",
       "    </tr>\n",
       "    <tr>\n",
       "      <th>...</th>\n",
       "      <td>...</td>\n",
       "      <td>...</td>\n",
       "      <td>...</td>\n",
       "      <td>...</td>\n",
       "      <td>...</td>\n",
       "      <td>...</td>\n",
       "      <td>...</td>\n",
       "      <td>...</td>\n",
       "      <td>...</td>\n",
       "      <td>...</td>\n",
       "      <td>...</td>\n",
       "      <td>...</td>\n",
       "      <td>...</td>\n",
       "      <td>...</td>\n",
       "      <td>...</td>\n",
       "      <td>...</td>\n",
       "    </tr>\n",
       "    <tr>\n",
       "      <th>18829</th>\n",
       "      <td>2017-01-26</td>\n",
       "      <td>2018-03-09 15:35:00</td>\n",
       "      <td>2.0</td>\n",
       "      <td>Tricolor</td>\n",
       "      <td>0.44</td>\n",
       "      <td>27.36</td>\n",
       "      <td>0</td>\n",
       "      <td>1</td>\n",
       "      <td>0.0</td>\n",
       "      <td>2</td>\n",
       "      <td>2018-03-09</td>\n",
       "      <td>407</td>\n",
       "      <td>afternoon</td>\n",
       "      <td>2018</td>\n",
       "      <td>spring</td>\n",
       "      <td>w2</td>\n",
       "    </tr>\n",
       "    <tr>\n",
       "      <th>18830</th>\n",
       "      <td>2016-06-18</td>\n",
       "      <td>2017-07-09 08:37:00</td>\n",
       "      <td>NaN</td>\n",
       "      <td>Brown</td>\n",
       "      <td>0.73</td>\n",
       "      <td>14.25</td>\n",
       "      <td>15</td>\n",
       "      <td>4</td>\n",
       "      <td>2.0</td>\n",
       "      <td>4</td>\n",
       "      <td>2017-07-09</td>\n",
       "      <td>386</td>\n",
       "      <td>morning</td>\n",
       "      <td>2017</td>\n",
       "      <td>summer</td>\n",
       "      <td>w2</td>\n",
       "    </tr>\n",
       "    <tr>\n",
       "      <th>18831</th>\n",
       "      <td>2010-07-21</td>\n",
       "      <td>2018-08-22 14:27:00</td>\n",
       "      <td>0.0</td>\n",
       "      <td>Calico Point</td>\n",
       "      <td>0.99</td>\n",
       "      <td>28.13</td>\n",
       "      <td>13</td>\n",
       "      <td>9</td>\n",
       "      <td>1.0</td>\n",
       "      <td>1</td>\n",
       "      <td>2018-08-22</td>\n",
       "      <td>2954</td>\n",
       "      <td>afternoon</td>\n",
       "      <td>2018</td>\n",
       "      <td>summer</td>\n",
       "      <td>w3</td>\n",
       "    </tr>\n",
       "    <tr>\n",
       "      <th>18832</th>\n",
       "      <td>2017-05-12</td>\n",
       "      <td>2018-02-08 14:05:00</td>\n",
       "      <td>0.0</td>\n",
       "      <td>Tan</td>\n",
       "      <td>0.55</td>\n",
       "      <td>44.82</td>\n",
       "      <td>13</td>\n",
       "      <td>9</td>\n",
       "      <td>1.0</td>\n",
       "      <td>2</td>\n",
       "      <td>2018-02-08</td>\n",
       "      <td>272</td>\n",
       "      <td>afternoon</td>\n",
       "      <td>2018</td>\n",
       "      <td>spring</td>\n",
       "      <td>w1</td>\n",
       "    </tr>\n",
       "    <tr>\n",
       "      <th>18833</th>\n",
       "      <td>2011-12-13</td>\n",
       "      <td>2018-10-26 14:18:00</td>\n",
       "      <td>0.0</td>\n",
       "      <td>Brown</td>\n",
       "      <td>0.86</td>\n",
       "      <td>37.40</td>\n",
       "      <td>0</td>\n",
       "      <td>1</td>\n",
       "      <td>1.0</td>\n",
       "      <td>2</td>\n",
       "      <td>2018-10-26</td>\n",
       "      <td>2509</td>\n",
       "      <td>afternoon</td>\n",
       "      <td>2018</td>\n",
       "      <td>winter</td>\n",
       "      <td>w4</td>\n",
       "    </tr>\n",
       "  </tbody>\n",
       "</table>\n",
       "<p>18834 rows × 16 columns</p>\n",
       "</div>"
      ],
      "text/plain": [
       "       issue_date         listing_date  condition    color_type  length(m)  \\\n",
       "0      2016-07-10  2016-09-21 16:25:00        2.0   Brown Tabby       0.80   \n",
       "1      2013-11-21  2018-12-27 17:47:00        1.0         White       0.72   \n",
       "2      2014-09-28  2016-10-19 08:24:00        NaN         Brown       0.15   \n",
       "3      2016-12-31  2019-01-25 18:30:00        1.0         White       0.62   \n",
       "4      2017-09-28  2017-11-19 09:38:00        2.0         Black       0.50   \n",
       "...           ...                  ...        ...           ...        ...   \n",
       "18829  2017-01-26  2018-03-09 15:35:00        2.0      Tricolor       0.44   \n",
       "18830  2016-06-18  2017-07-09 08:37:00        NaN         Brown       0.73   \n",
       "18831  2010-07-21  2018-08-22 14:27:00        0.0  Calico Point       0.99   \n",
       "18832  2017-05-12  2018-02-08 14:05:00        0.0           Tan       0.55   \n",
       "18833  2011-12-13  2018-10-26 14:18:00        0.0         Brown       0.86   \n",
       "\n",
       "       height(cm)  X1  X2  breed_category  pet_category   list_date  gap_days  \\\n",
       "0            7.78  13   9             0.0             1  2016-09-21        73   \n",
       "1           14.19  13   9             0.0             2  2018-12-27      1862   \n",
       "2           40.90  15   4             2.0             4  2016-10-19       752   \n",
       "3           17.82   0   1             0.0             2  2019-01-25       755   \n",
       "4           11.06  18   4             0.0             1  2017-11-19        52   \n",
       "...           ...  ..  ..             ...           ...         ...       ...   \n",
       "18829       27.36   0   1             0.0             2  2018-03-09       407   \n",
       "18830       14.25  15   4             2.0             4  2017-07-09       386   \n",
       "18831       28.13  13   9             1.0             1  2018-08-22      2954   \n",
       "18832       44.82  13   9             1.0             2  2018-02-08       272   \n",
       "18833       37.40   0   1             1.0             2  2018-10-26      2509   \n",
       "\n",
       "      time_of_day  list_year list_season list_time_month  \n",
       "0       afternoon       2016      winter              w3  \n",
       "1       afternoon       2018      winter              w4  \n",
       "2         morning       2016      winter              w3  \n",
       "3           night       2019      spring              w4  \n",
       "4         morning       2017      winter              w3  \n",
       "...           ...        ...         ...             ...  \n",
       "18829   afternoon       2018      spring              w2  \n",
       "18830     morning       2017      summer              w2  \n",
       "18831   afternoon       2018      summer              w3  \n",
       "18832   afternoon       2018      spring              w1  \n",
       "18833   afternoon       2018      winter              w4  \n",
       "\n",
       "[18834 rows x 16 columns]"
      ]
     },
     "execution_count": 23,
     "metadata": {},
     "output_type": "execute_result"
    }
   ],
   "source": [
    "train_data"
   ]
  },
  {
   "cell_type": "code",
   "execution_count": 24,
   "metadata": {},
   "outputs": [],
   "source": [
    "train_data.drop([\"issue_date\",\"list_date\",\"listing_date\"],axis=1,inplace=True)\n",
    "test_data.drop([\"issue_date\",\"list_date\",\"listing_date\"],axis=1,inplace=True)"
   ]
  },
  {
   "cell_type": "code",
   "execution_count": 25,
   "metadata": {},
   "outputs": [],
   "source": [
    "train_data[\"rare\"]=train_data[\"color_type\"].apply(lambda x: 1 if x in train.color_type.value_counts().keys()[-8:] else 0)\n",
    "test_data[\"rare\"]=test_data[\"color_type\"].apply(lambda x: 1 if x in train.color_type.value_counts().keys()[-8:] else 0)"
   ]
  },
  {
   "cell_type": "code",
   "execution_count": 26,
   "metadata": {},
   "outputs": [
    {
     "data": {
      "text/html": [
       "<div>\n",
       "<style scoped>\n",
       "    .dataframe tbody tr th:only-of-type {\n",
       "        vertical-align: middle;\n",
       "    }\n",
       "\n",
       "    .dataframe tbody tr th {\n",
       "        vertical-align: top;\n",
       "    }\n",
       "\n",
       "    .dataframe thead th {\n",
       "        text-align: right;\n",
       "    }\n",
       "</style>\n",
       "<table border=\"1\" class=\"dataframe\">\n",
       "  <thead>\n",
       "    <tr style=\"text-align: right;\">\n",
       "      <th></th>\n",
       "      <th>condition</th>\n",
       "      <th>length(m)</th>\n",
       "      <th>height(cm)</th>\n",
       "      <th>X1</th>\n",
       "      <th>X2</th>\n",
       "      <th>breed_category</th>\n",
       "      <th>pet_category</th>\n",
       "      <th>gap_days</th>\n",
       "      <th>list_year</th>\n",
       "      <th>rare</th>\n",
       "    </tr>\n",
       "  </thead>\n",
       "  <tbody>\n",
       "    <tr>\n",
       "      <th>condition</th>\n",
       "      <td>1.000000</td>\n",
       "      <td>-0.011219</td>\n",
       "      <td>-0.010793</td>\n",
       "      <td>0.338843</td>\n",
       "      <td>0.381696</td>\n",
       "      <td>-0.483503</td>\n",
       "      <td>-0.041660</td>\n",
       "      <td>-0.101837</td>\n",
       "      <td>-0.015917</td>\n",
       "      <td>0.013800</td>\n",
       "    </tr>\n",
       "    <tr>\n",
       "      <th>length(m)</th>\n",
       "      <td>-0.011219</td>\n",
       "      <td>1.000000</td>\n",
       "      <td>-0.004464</td>\n",
       "      <td>-0.002893</td>\n",
       "      <td>-0.011175</td>\n",
       "      <td>0.007229</td>\n",
       "      <td>-0.003999</td>\n",
       "      <td>0.001771</td>\n",
       "      <td>-0.005259</td>\n",
       "      <td>-0.000507</td>\n",
       "    </tr>\n",
       "    <tr>\n",
       "      <th>height(cm)</th>\n",
       "      <td>-0.010793</td>\n",
       "      <td>-0.004464</td>\n",
       "      <td>1.000000</td>\n",
       "      <td>-0.003801</td>\n",
       "      <td>-0.008216</td>\n",
       "      <td>0.011647</td>\n",
       "      <td>0.001976</td>\n",
       "      <td>-0.000518</td>\n",
       "      <td>0.005802</td>\n",
       "      <td>-0.003184</td>\n",
       "    </tr>\n",
       "    <tr>\n",
       "      <th>X1</th>\n",
       "      <td>0.338843</td>\n",
       "      <td>-0.002893</td>\n",
       "      <td>-0.003801</td>\n",
       "      <td>1.000000</td>\n",
       "      <td>0.584396</td>\n",
       "      <td>0.240729</td>\n",
       "      <td>-0.032594</td>\n",
       "      <td>-0.102619</td>\n",
       "      <td>-0.073691</td>\n",
       "      <td>-0.003280</td>\n",
       "    </tr>\n",
       "    <tr>\n",
       "      <th>X2</th>\n",
       "      <td>0.381696</td>\n",
       "      <td>-0.011175</td>\n",
       "      <td>-0.008216</td>\n",
       "      <td>0.584396</td>\n",
       "      <td>1.000000</td>\n",
       "      <td>0.052530</td>\n",
       "      <td>-0.032116</td>\n",
       "      <td>0.118689</td>\n",
       "      <td>-0.050960</td>\n",
       "      <td>0.000039</td>\n",
       "    </tr>\n",
       "    <tr>\n",
       "      <th>breed_category</th>\n",
       "      <td>-0.483503</td>\n",
       "      <td>0.007229</td>\n",
       "      <td>0.011647</td>\n",
       "      <td>0.240729</td>\n",
       "      <td>0.052530</td>\n",
       "      <td>1.000000</td>\n",
       "      <td>0.209230</td>\n",
       "      <td>-0.102774</td>\n",
       "      <td>-0.034661</td>\n",
       "      <td>0.017431</td>\n",
       "    </tr>\n",
       "    <tr>\n",
       "      <th>pet_category</th>\n",
       "      <td>-0.041660</td>\n",
       "      <td>-0.003999</td>\n",
       "      <td>0.001976</td>\n",
       "      <td>-0.032594</td>\n",
       "      <td>-0.032116</td>\n",
       "      <td>0.209230</td>\n",
       "      <td>1.000000</td>\n",
       "      <td>0.093331</td>\n",
       "      <td>0.036504</td>\n",
       "      <td>0.025573</td>\n",
       "    </tr>\n",
       "    <tr>\n",
       "      <th>gap_days</th>\n",
       "      <td>-0.101837</td>\n",
       "      <td>0.001771</td>\n",
       "      <td>-0.000518</td>\n",
       "      <td>-0.102619</td>\n",
       "      <td>0.118689</td>\n",
       "      <td>-0.102774</td>\n",
       "      <td>0.093331</td>\n",
       "      <td>1.000000</td>\n",
       "      <td>0.038684</td>\n",
       "      <td>-0.009601</td>\n",
       "    </tr>\n",
       "    <tr>\n",
       "      <th>list_year</th>\n",
       "      <td>-0.015917</td>\n",
       "      <td>-0.005259</td>\n",
       "      <td>0.005802</td>\n",
       "      <td>-0.073691</td>\n",
       "      <td>-0.050960</td>\n",
       "      <td>-0.034661</td>\n",
       "      <td>0.036504</td>\n",
       "      <td>0.038684</td>\n",
       "      <td>1.000000</td>\n",
       "      <td>-0.003088</td>\n",
       "    </tr>\n",
       "    <tr>\n",
       "      <th>rare</th>\n",
       "      <td>0.013800</td>\n",
       "      <td>-0.000507</td>\n",
       "      <td>-0.003184</td>\n",
       "      <td>-0.003280</td>\n",
       "      <td>0.000039</td>\n",
       "      <td>0.017431</td>\n",
       "      <td>0.025573</td>\n",
       "      <td>-0.009601</td>\n",
       "      <td>-0.003088</td>\n",
       "      <td>1.000000</td>\n",
       "    </tr>\n",
       "  </tbody>\n",
       "</table>\n",
       "</div>"
      ],
      "text/plain": [
       "                condition  length(m)  height(cm)        X1        X2  \\\n",
       "condition        1.000000  -0.011219   -0.010793  0.338843  0.381696   \n",
       "length(m)       -0.011219   1.000000   -0.004464 -0.002893 -0.011175   \n",
       "height(cm)      -0.010793  -0.004464    1.000000 -0.003801 -0.008216   \n",
       "X1               0.338843  -0.002893   -0.003801  1.000000  0.584396   \n",
       "X2               0.381696  -0.011175   -0.008216  0.584396  1.000000   \n",
       "breed_category  -0.483503   0.007229    0.011647  0.240729  0.052530   \n",
       "pet_category    -0.041660  -0.003999    0.001976 -0.032594 -0.032116   \n",
       "gap_days        -0.101837   0.001771   -0.000518 -0.102619  0.118689   \n",
       "list_year       -0.015917  -0.005259    0.005802 -0.073691 -0.050960   \n",
       "rare             0.013800  -0.000507   -0.003184 -0.003280  0.000039   \n",
       "\n",
       "                breed_category  pet_category  gap_days  list_year      rare  \n",
       "condition            -0.483503     -0.041660 -0.101837  -0.015917  0.013800  \n",
       "length(m)             0.007229     -0.003999  0.001771  -0.005259 -0.000507  \n",
       "height(cm)            0.011647      0.001976 -0.000518   0.005802 -0.003184  \n",
       "X1                    0.240729     -0.032594 -0.102619  -0.073691 -0.003280  \n",
       "X2                    0.052530     -0.032116  0.118689  -0.050960  0.000039  \n",
       "breed_category        1.000000      0.209230 -0.102774  -0.034661  0.017431  \n",
       "pet_category          0.209230      1.000000  0.093331   0.036504  0.025573  \n",
       "gap_days             -0.102774      0.093331  1.000000   0.038684 -0.009601  \n",
       "list_year            -0.034661      0.036504  0.038684   1.000000 -0.003088  \n",
       "rare                  0.017431      0.025573 -0.009601  -0.003088  1.000000  "
      ]
     },
     "execution_count": 26,
     "metadata": {},
     "output_type": "execute_result"
    }
   ],
   "source": [
    "train_data.corr()"
   ]
  },
  {
   "cell_type": "code",
   "execution_count": 27,
   "metadata": {},
   "outputs": [],
   "source": [
    "color = pd.get_dummies(train_data[\"color_type\"],drop_first=True)\n",
    "t_color = pd.get_dummies(test_data[\"color_type\"],drop_first=True)\n",
    "\n",
    "train_data = pd.concat([train_data.drop(\"color_type\",axis=1),color],axis=1)\n",
    "test_data = pd.concat([test_data.drop(\"color_type\",axis=1),t_color],axis=1)"
   ]
  },
  {
   "cell_type": "code",
   "execution_count": 31,
   "metadata": {},
   "outputs": [
    {
     "data": {
      "text/plain": [
       "Index(['condition', 'length(m)', 'height(cm)', 'X1', 'X2', 'gap_days',\n",
       "       'time_of_day', 'list_year', 'list_season', 'list_time_month', 'rare',\n",
       "       'Apricot', 'Black', 'Black Brindle', 'Black Smoke', 'Black Tabby',\n",
       "       'Black Tiger', 'Blue', 'Blue Cream', 'Blue Merle', 'Blue Point',\n",
       "       'Blue Smoke', 'Blue Tabby', 'Blue Tick', 'Blue Tiger', 'Brown',\n",
       "       'Brown Brindle', 'Brown Merle', 'Brown Tabby', 'Brown Tiger', 'Buff',\n",
       "       'Calico', 'Calico Point', 'Chocolate', 'Chocolate Point', 'Cream',\n",
       "       'Cream Tabby', 'Fawn', 'Flame Point', 'Gold', 'Gray', 'Gray Tabby',\n",
       "       'Green', 'Lilac Point', 'Liver', 'Liver Tick', 'Lynx Point', 'Orange',\n",
       "       'Orange Tabby', 'Pink', 'Red', 'Red Merle', 'Red Tick', 'Sable',\n",
       "       'Seal Point', 'Silver', 'Silver Lynx Point', 'Silver Tabby', 'Tan',\n",
       "       'Torbie', 'Tortie', 'Tortie Point', 'Tricolor', 'White', 'Yellow',\n",
       "       'Yellow Brindle'],\n",
       "      dtype='object')"
      ]
     },
     "execution_count": 31,
     "metadata": {},
     "output_type": "execute_result"
    }
   ],
   "source": [
    "test_data.columns"
   ]
  },
  {
   "cell_type": "code",
   "execution_count": 29,
   "metadata": {},
   "outputs": [],
   "source": [
    "test_data.insert(16,value=np.zeros(8072),column=\"Black Tiger\")"
   ]
  },
  {
   "cell_type": "code",
   "execution_count": 30,
   "metadata": {},
   "outputs": [],
   "source": [
    "test_data.insert(29,value=np.zeros(8072),column=\"Brown Tiger\")"
   ]
  },
  {
   "cell_type": "code",
   "execution_count": 32,
   "metadata": {},
   "outputs": [],
   "source": [
    "time= pd.get_dummies(train_data[\"time_of_day\"],drop_first=True)\n",
    "t_time = pd.get_dummies(test_data[\"time_of_day\"],drop_first=True)\n",
    "\n",
    "train_data = pd.concat([train_data.drop(\"time_of_day\",axis=1),time],axis=1)\n",
    "test_data = pd.concat([test_data.drop(\"time_of_day\",axis=1),t_time],axis=1)"
   ]
  },
  {
   "cell_type": "code",
   "execution_count": 33,
   "metadata": {},
   "outputs": [],
   "source": [
    "from sklearn.preprocessing import LabelEncoder"
   ]
  },
  {
   "cell_type": "code",
   "execution_count": 34,
   "metadata": {},
   "outputs": [],
   "source": [
    "encode = LabelEncoder()\n"
   ]
  },
  {
   "cell_type": "code",
   "execution_count": 35,
   "metadata": {},
   "outputs": [],
   "source": [
    "train_data[\"list_year\"]=encode.fit_transform(train_data[\"list_year\"])\n",
    "test_data[\"list_year\"]=encode.transform(test_data[\"list_year\"])"
   ]
  },
  {
   "cell_type": "code",
   "execution_count": 36,
   "metadata": {},
   "outputs": [],
   "source": [
    "season = pd.get_dummies(train_data[\"list_season\"],drop_first=True)\n",
    "season_t = pd.get_dummies(test_data[\"list_season\"],drop_first=True)\n",
    "\n",
    "train_data = pd.concat([train_data.drop(\"list_season\",axis=1),season],axis=1)\n",
    "test_data = pd.concat([test_data.drop(\"list_season\",axis=1),season_t],axis=1)"
   ]
  },
  {
   "cell_type": "code",
   "execution_count": 37,
   "metadata": {},
   "outputs": [],
   "source": [
    "month = pd.get_dummies(train_data[\"list_time_month\"],drop_first=True)\n",
    "month_t = pd.get_dummies(test_data[\"list_time_month\"],drop_first=True)\n",
    "\n",
    "train_data = pd.concat([train_data.drop(\"list_time_month\",axis=1),month],axis=1)\n",
    "test_data = pd.concat([test_data.drop(\"list_time_month\",axis=1),month_t],axis=1)"
   ]
  },
  {
   "cell_type": "code",
   "execution_count": 38,
   "metadata": {},
   "outputs": [],
   "source": [
    "train_data[\"pet_size\"]=pd.cut(train_data[[\"length(m)\",\"height(cm)\"]].apply(lambda cols: cols[0]*cols[1] ,axis=1),4,labels=[\"small\",\"little\",\"medium\",\"large\"])\n",
    "test_data[\"pet_size\"]=pd.cut(test_data[[\"length(m)\",\"height(cm)\"]].apply(lambda cols: cols[0]*cols[1] ,axis=1),4,labels=[\"small\",\"little\",\"medium\",\"large\"])\n"
   ]
  },
  {
   "cell_type": "code",
   "execution_count": 39,
   "metadata": {},
   "outputs": [],
   "source": [
    "size = pd.get_dummies(train_data[\"pet_size\"],drop_first=True)\n",
    "size_t = pd.get_dummies(test_data[\"pet_size\"],drop_first=True)\n",
    "\n",
    "train_data = pd.concat([train_data.drop(\"pet_size\",axis=1),size],axis=1)\n",
    "test_data = pd.concat([test_data.drop(\"pet_size\",axis=1),size_t],axis=1)"
   ]
  },
  {
   "cell_type": "code",
   "execution_count": 40,
   "metadata": {},
   "outputs": [
    {
     "data": {
      "text/html": [
       "<div>\n",
       "<style scoped>\n",
       "    .dataframe tbody tr th:only-of-type {\n",
       "        vertical-align: middle;\n",
       "    }\n",
       "\n",
       "    .dataframe tbody tr th {\n",
       "        vertical-align: top;\n",
       "    }\n",
       "\n",
       "    .dataframe thead th {\n",
       "        text-align: right;\n",
       "    }\n",
       "</style>\n",
       "<table border=\"1\" class=\"dataframe\">\n",
       "  <thead>\n",
       "    <tr style=\"text-align: right;\">\n",
       "      <th></th>\n",
       "      <th>condition</th>\n",
       "      <th>length(m)</th>\n",
       "      <th>height(cm)</th>\n",
       "      <th>X1</th>\n",
       "      <th>X2</th>\n",
       "      <th>breed_category</th>\n",
       "      <th>pet_category</th>\n",
       "      <th>gap_days</th>\n",
       "      <th>list_year</th>\n",
       "      <th>rare</th>\n",
       "      <th>...</th>\n",
       "      <th>morning</th>\n",
       "      <th>night</th>\n",
       "      <th>summer</th>\n",
       "      <th>winter</th>\n",
       "      <th>w2</th>\n",
       "      <th>w3</th>\n",
       "      <th>w4</th>\n",
       "      <th>little</th>\n",
       "      <th>medium</th>\n",
       "      <th>large</th>\n",
       "    </tr>\n",
       "  </thead>\n",
       "  <tbody>\n",
       "    <tr>\n",
       "      <th>0</th>\n",
       "      <td>2.0</td>\n",
       "      <td>0.80</td>\n",
       "      <td>7.78</td>\n",
       "      <td>13</td>\n",
       "      <td>9</td>\n",
       "      <td>0.0</td>\n",
       "      <td>1</td>\n",
       "      <td>73</td>\n",
       "      <td>1</td>\n",
       "      <td>0</td>\n",
       "      <td>...</td>\n",
       "      <td>0</td>\n",
       "      <td>0</td>\n",
       "      <td>0</td>\n",
       "      <td>1</td>\n",
       "      <td>0</td>\n",
       "      <td>1</td>\n",
       "      <td>0</td>\n",
       "      <td>0</td>\n",
       "      <td>0</td>\n",
       "      <td>0</td>\n",
       "    </tr>\n",
       "    <tr>\n",
       "      <th>1</th>\n",
       "      <td>1.0</td>\n",
       "      <td>0.72</td>\n",
       "      <td>14.19</td>\n",
       "      <td>13</td>\n",
       "      <td>9</td>\n",
       "      <td>0.0</td>\n",
       "      <td>2</td>\n",
       "      <td>1862</td>\n",
       "      <td>3</td>\n",
       "      <td>0</td>\n",
       "      <td>...</td>\n",
       "      <td>0</td>\n",
       "      <td>0</td>\n",
       "      <td>0</td>\n",
       "      <td>1</td>\n",
       "      <td>0</td>\n",
       "      <td>0</td>\n",
       "      <td>1</td>\n",
       "      <td>0</td>\n",
       "      <td>0</td>\n",
       "      <td>0</td>\n",
       "    </tr>\n",
       "    <tr>\n",
       "      <th>2</th>\n",
       "      <td>NaN</td>\n",
       "      <td>0.15</td>\n",
       "      <td>40.90</td>\n",
       "      <td>15</td>\n",
       "      <td>4</td>\n",
       "      <td>2.0</td>\n",
       "      <td>4</td>\n",
       "      <td>752</td>\n",
       "      <td>1</td>\n",
       "      <td>0</td>\n",
       "      <td>...</td>\n",
       "      <td>1</td>\n",
       "      <td>0</td>\n",
       "      <td>0</td>\n",
       "      <td>1</td>\n",
       "      <td>0</td>\n",
       "      <td>1</td>\n",
       "      <td>0</td>\n",
       "      <td>0</td>\n",
       "      <td>0</td>\n",
       "      <td>0</td>\n",
       "    </tr>\n",
       "    <tr>\n",
       "      <th>3</th>\n",
       "      <td>1.0</td>\n",
       "      <td>0.62</td>\n",
       "      <td>17.82</td>\n",
       "      <td>0</td>\n",
       "      <td>1</td>\n",
       "      <td>0.0</td>\n",
       "      <td>2</td>\n",
       "      <td>755</td>\n",
       "      <td>4</td>\n",
       "      <td>0</td>\n",
       "      <td>...</td>\n",
       "      <td>0</td>\n",
       "      <td>1</td>\n",
       "      <td>0</td>\n",
       "      <td>0</td>\n",
       "      <td>0</td>\n",
       "      <td>0</td>\n",
       "      <td>1</td>\n",
       "      <td>0</td>\n",
       "      <td>0</td>\n",
       "      <td>0</td>\n",
       "    </tr>\n",
       "    <tr>\n",
       "      <th>4</th>\n",
       "      <td>2.0</td>\n",
       "      <td>0.50</td>\n",
       "      <td>11.06</td>\n",
       "      <td>18</td>\n",
       "      <td>4</td>\n",
       "      <td>0.0</td>\n",
       "      <td>1</td>\n",
       "      <td>52</td>\n",
       "      <td>2</td>\n",
       "      <td>0</td>\n",
       "      <td>...</td>\n",
       "      <td>1</td>\n",
       "      <td>0</td>\n",
       "      <td>0</td>\n",
       "      <td>1</td>\n",
       "      <td>0</td>\n",
       "      <td>1</td>\n",
       "      <td>0</td>\n",
       "      <td>0</td>\n",
       "      <td>0</td>\n",
       "      <td>0</td>\n",
       "    </tr>\n",
       "    <tr>\n",
       "      <th>...</th>\n",
       "      <td>...</td>\n",
       "      <td>...</td>\n",
       "      <td>...</td>\n",
       "      <td>...</td>\n",
       "      <td>...</td>\n",
       "      <td>...</td>\n",
       "      <td>...</td>\n",
       "      <td>...</td>\n",
       "      <td>...</td>\n",
       "      <td>...</td>\n",
       "      <td>...</td>\n",
       "      <td>...</td>\n",
       "      <td>...</td>\n",
       "      <td>...</td>\n",
       "      <td>...</td>\n",
       "      <td>...</td>\n",
       "      <td>...</td>\n",
       "      <td>...</td>\n",
       "      <td>...</td>\n",
       "      <td>...</td>\n",
       "      <td>...</td>\n",
       "    </tr>\n",
       "    <tr>\n",
       "      <th>18829</th>\n",
       "      <td>2.0</td>\n",
       "      <td>0.44</td>\n",
       "      <td>27.36</td>\n",
       "      <td>0</td>\n",
       "      <td>1</td>\n",
       "      <td>0.0</td>\n",
       "      <td>2</td>\n",
       "      <td>407</td>\n",
       "      <td>3</td>\n",
       "      <td>0</td>\n",
       "      <td>...</td>\n",
       "      <td>0</td>\n",
       "      <td>0</td>\n",
       "      <td>0</td>\n",
       "      <td>0</td>\n",
       "      <td>1</td>\n",
       "      <td>0</td>\n",
       "      <td>0</td>\n",
       "      <td>0</td>\n",
       "      <td>0</td>\n",
       "      <td>0</td>\n",
       "    </tr>\n",
       "    <tr>\n",
       "      <th>18830</th>\n",
       "      <td>NaN</td>\n",
       "      <td>0.73</td>\n",
       "      <td>14.25</td>\n",
       "      <td>15</td>\n",
       "      <td>4</td>\n",
       "      <td>2.0</td>\n",
       "      <td>4</td>\n",
       "      <td>386</td>\n",
       "      <td>2</td>\n",
       "      <td>0</td>\n",
       "      <td>...</td>\n",
       "      <td>1</td>\n",
       "      <td>0</td>\n",
       "      <td>1</td>\n",
       "      <td>0</td>\n",
       "      <td>1</td>\n",
       "      <td>0</td>\n",
       "      <td>0</td>\n",
       "      <td>0</td>\n",
       "      <td>0</td>\n",
       "      <td>0</td>\n",
       "    </tr>\n",
       "    <tr>\n",
       "      <th>18831</th>\n",
       "      <td>0.0</td>\n",
       "      <td>0.99</td>\n",
       "      <td>28.13</td>\n",
       "      <td>13</td>\n",
       "      <td>9</td>\n",
       "      <td>1.0</td>\n",
       "      <td>1</td>\n",
       "      <td>2954</td>\n",
       "      <td>3</td>\n",
       "      <td>0</td>\n",
       "      <td>...</td>\n",
       "      <td>0</td>\n",
       "      <td>0</td>\n",
       "      <td>1</td>\n",
       "      <td>0</td>\n",
       "      <td>0</td>\n",
       "      <td>1</td>\n",
       "      <td>0</td>\n",
       "      <td>0</td>\n",
       "      <td>1</td>\n",
       "      <td>0</td>\n",
       "    </tr>\n",
       "    <tr>\n",
       "      <th>18832</th>\n",
       "      <td>0.0</td>\n",
       "      <td>0.55</td>\n",
       "      <td>44.82</td>\n",
       "      <td>13</td>\n",
       "      <td>9</td>\n",
       "      <td>1.0</td>\n",
       "      <td>2</td>\n",
       "      <td>272</td>\n",
       "      <td>3</td>\n",
       "      <td>0</td>\n",
       "      <td>...</td>\n",
       "      <td>0</td>\n",
       "      <td>0</td>\n",
       "      <td>0</td>\n",
       "      <td>0</td>\n",
       "      <td>0</td>\n",
       "      <td>0</td>\n",
       "      <td>0</td>\n",
       "      <td>1</td>\n",
       "      <td>0</td>\n",
       "      <td>0</td>\n",
       "    </tr>\n",
       "    <tr>\n",
       "      <th>18833</th>\n",
       "      <td>0.0</td>\n",
       "      <td>0.86</td>\n",
       "      <td>37.40</td>\n",
       "      <td>0</td>\n",
       "      <td>1</td>\n",
       "      <td>1.0</td>\n",
       "      <td>2</td>\n",
       "      <td>2509</td>\n",
       "      <td>3</td>\n",
       "      <td>0</td>\n",
       "      <td>...</td>\n",
       "      <td>0</td>\n",
       "      <td>0</td>\n",
       "      <td>0</td>\n",
       "      <td>1</td>\n",
       "      <td>0</td>\n",
       "      <td>0</td>\n",
       "      <td>1</td>\n",
       "      <td>0</td>\n",
       "      <td>1</td>\n",
       "      <td>0</td>\n",
       "    </tr>\n",
       "  </tbody>\n",
       "</table>\n",
       "<p>18834 rows × 76 columns</p>\n",
       "</div>"
      ],
      "text/plain": [
       "       condition  length(m)  height(cm)  X1  X2  breed_category  pet_category  \\\n",
       "0            2.0       0.80        7.78  13   9             0.0             1   \n",
       "1            1.0       0.72       14.19  13   9             0.0             2   \n",
       "2            NaN       0.15       40.90  15   4             2.0             4   \n",
       "3            1.0       0.62       17.82   0   1             0.0             2   \n",
       "4            2.0       0.50       11.06  18   4             0.0             1   \n",
       "...          ...        ...         ...  ..  ..             ...           ...   \n",
       "18829        2.0       0.44       27.36   0   1             0.0             2   \n",
       "18830        NaN       0.73       14.25  15   4             2.0             4   \n",
       "18831        0.0       0.99       28.13  13   9             1.0             1   \n",
       "18832        0.0       0.55       44.82  13   9             1.0             2   \n",
       "18833        0.0       0.86       37.40   0   1             1.0             2   \n",
       "\n",
       "       gap_days  list_year  rare  ...  morning  night  summer  winter  w2  w3  \\\n",
       "0            73          1     0  ...        0      0       0       1   0   1   \n",
       "1          1862          3     0  ...        0      0       0       1   0   0   \n",
       "2           752          1     0  ...        1      0       0       1   0   1   \n",
       "3           755          4     0  ...        0      1       0       0   0   0   \n",
       "4            52          2     0  ...        1      0       0       1   0   1   \n",
       "...         ...        ...   ...  ...      ...    ...     ...     ...  ..  ..   \n",
       "18829       407          3     0  ...        0      0       0       0   1   0   \n",
       "18830       386          2     0  ...        1      0       1       0   1   0   \n",
       "18831      2954          3     0  ...        0      0       1       0   0   1   \n",
       "18832       272          3     0  ...        0      0       0       0   0   0   \n",
       "18833      2509          3     0  ...        0      0       0       1   0   0   \n",
       "\n",
       "       w4  little  medium  large  \n",
       "0       0       0       0      0  \n",
       "1       1       0       0      0  \n",
       "2       0       0       0      0  \n",
       "3       1       0       0      0  \n",
       "4       0       0       0      0  \n",
       "...    ..     ...     ...    ...  \n",
       "18829   0       0       0      0  \n",
       "18830   0       0       0      0  \n",
       "18831   0       0       1      0  \n",
       "18832   0       1       0      0  \n",
       "18833   1       0       1      0  \n",
       "\n",
       "[18834 rows x 76 columns]"
      ]
     },
     "execution_count": 40,
     "metadata": {},
     "output_type": "execute_result"
    }
   ],
   "source": [
    "train_data"
   ]
  },
  {
   "cell_type": "markdown",
   "metadata": {},
   "source": [
    "train_data[\"gap_days\"]=pd.cut(train_data[\"gap_days\"],4,labels=[\"short_time\",\"few_years\",\"long_time\",\"very_long_time\"])\n",
    "test_data[\"gap_days\"]=pd.cut(test_data[\"gap_days\"],4,labels=[\"short_time\",\"few_years\",\"long_time\",\"very_long_time\"])\n",
    "\n",
    "\n",
    "days = pd.get_dummies(train_data[\"gap_days\"],drop_first=True)\n",
    "days_t = pd.get_dummies(test_data[\"gap_days\"],drop_first=True)\n",
    "\n",
    "train_data = pd.concat([train_data.drop(\"gap_days\",axis=1),days],axis=1)\n",
    "test_data = pd.concat([test_data.drop(\"gap_days\",axis=1),days_t],axis=1)"
   ]
  },
  {
   "cell_type": "code",
   "execution_count": 41,
   "metadata": {},
   "outputs": [],
   "source": [
    "train_data2 = train_data.copy()\n",
    "test_data2 = test_data.copy()"
   ]
  },
  {
   "cell_type": "code",
   "execution_count": 42,
   "metadata": {},
   "outputs": [],
   "source": [
    "train_data.drop([\"length(m)\",\"height(cm)\"],axis=1,inplace=True)"
   ]
  },
  {
   "cell_type": "code",
   "execution_count": 43,
   "metadata": {},
   "outputs": [],
   "source": [
    "train_data2.drop([\"length(m)\",\"height(cm)\"],axis=1,inplace=True)"
   ]
  },
  {
   "cell_type": "code",
   "execution_count": 44,
   "metadata": {},
   "outputs": [],
   "source": [
    "test_data.drop([\"length(m)\",\"height(cm)\"],axis=1,inplace=True)"
   ]
  },
  {
   "cell_type": "code",
   "execution_count": 45,
   "metadata": {},
   "outputs": [],
   "source": [
    "test_data2.drop([\"length(m)\",\"height(cm)\"],axis=1,inplace=True)"
   ]
  },
  {
   "cell_type": "code",
   "execution_count": 46,
   "metadata": {},
   "outputs": [],
   "source": [
    "train_data[\"condition\"]=train_data[\"condition\"].fillna(3)\n",
    "test_data[\"condition\"]=test_data[\"condition\"].fillna(3)\n",
    "train_data2[\"condition\"]=train_data2[\"condition\"].fillna(3)\n",
    "test_data2[\"condition\"]=test_data2[\"condition\"].fillna(3)"
   ]
  },
  {
   "cell_type": "markdown",
   "metadata": {},
   "source": [
    "train_data2[\"condition\"]=train_data2[[\"condition\",\"X2\"]].apply(impute,axis=1)\n",
    "test_data2[\"condition\"]=test_data2[[\"condition\",\"X2\"]].apply(impute,axis=1)"
   ]
  },
  {
   "cell_type": "code",
   "execution_count": 47,
   "metadata": {},
   "outputs": [],
   "source": [
    "cond = pd.get_dummies(train_data[\"condition\"],drop_first=True)\n",
    "cond_t = pd.get_dummies(test_data[\"condition\"],drop_first=True)\n",
    "\n",
    "train_data= pd.concat([train_data.drop(\"condition\",axis=1),cond],axis=1)\n",
    "test_data = pd.concat([test_data.drop(\"condition\",axis=1),cond_t],axis=1)\n",
    "\n",
    "cond2 = pd.get_dummies(train_data2[\"condition\"],drop_first=True)\n",
    "cond2_t = pd.get_dummies(test_data2[\"condition\"],drop_first=True)\n",
    "\n",
    "train_data2= pd.concat([train_data2.drop(\"condition\",axis=1),cond2],axis=1)\n",
    "test_data2 = pd.concat([test_data2.drop(\"condition\",axis=1),cond2_t],axis=1)"
   ]
  },
  {
   "cell_type": "code",
   "execution_count": 79,
   "metadata": {},
   "outputs": [],
   "source": [
    "x_train = train_data.drop(['breed_category','pet_category'],axis=1).values\n",
    "x_test = test_data.values\n",
    "\n",
    "x_train2 = train_data2.drop(['breed_category','pet_category'],axis=1).values\n",
    "x_test2 = test_data2.values"
   ]
  },
  {
   "cell_type": "code",
   "execution_count": 80,
   "metadata": {},
   "outputs": [],
   "source": [
    "y_train_breed = train_data[\"breed_category\"]\n",
    "y_train_pet = train_data2[\"pet_category\"]"
   ]
  },
  {
   "cell_type": "code",
   "execution_count": 50,
   "metadata": {},
   "outputs": [],
   "source": [
    "from sklearn.preprocessing import StandardScaler"
   ]
  },
  {
   "cell_type": "code",
   "execution_count": 81,
   "metadata": {},
   "outputs": [],
   "source": [
    "sc = StandardScaler()"
   ]
  },
  {
   "cell_type": "code",
   "execution_count": 82,
   "metadata": {},
   "outputs": [],
   "source": [
    "x_train = sc.fit_transform(x_train)\n",
    "x_test = sc.transform(x_test)"
   ]
  },
  {
   "cell_type": "code",
   "execution_count": 83,
   "metadata": {},
   "outputs": [],
   "source": [
    "sc2 = StandardScaler()"
   ]
  },
  {
   "cell_type": "code",
   "execution_count": 84,
   "metadata": {},
   "outputs": [],
   "source": [
    "x_train2 = sc2.fit_transform(x_train2)\n",
    "x_test2 = sc2.transform(x_test2)"
   ]
  },
  {
   "cell_type": "code",
   "execution_count": 85,
   "metadata": {},
   "outputs": [
    {
     "data": {
      "text/plain": [
       "2    10621\n",
       "1     7184\n",
       "4      941\n",
       "0       88\n",
       "Name: pet_category, dtype: int64"
      ]
     },
     "execution_count": 85,
     "metadata": {},
     "output_type": "execute_result"
    }
   ],
   "source": [
    "train[\"pet_category\"].value_counts()"
   ]
  },
  {
   "cell_type": "code",
   "execution_count": 86,
   "metadata": {},
   "outputs": [
    {
     "data": {
      "text/plain": [
       "0.0    9000\n",
       "1.0    8357\n",
       "2.0    1477\n",
       "Name: breed_category, dtype: int64"
      ]
     },
     "execution_count": 86,
     "metadata": {},
     "output_type": "execute_result"
    }
   ],
   "source": [
    "train[\"breed_category\"].value_counts()"
   ]
  },
  {
   "cell_type": "code",
   "execution_count": 87,
   "metadata": {},
   "outputs": [],
   "source": [
    "from imblearn.over_sampling import SMOTE"
   ]
  },
  {
   "cell_type": "code",
   "execution_count": 88,
   "metadata": {},
   "outputs": [
    {
     "data": {
      "text/plain": [
       "2    10621\n",
       "1     7184\n",
       "4      941\n",
       "0      941\n",
       "Name: pet_category, dtype: int64"
      ]
     },
     "execution_count": 88,
     "metadata": {},
     "output_type": "execute_result"
    }
   ],
   "source": [
    "sm_pet=SMOTE(sampling_strategy={0:941})\n",
    "\n",
    "x_train2,y_train_pet = sm_pet.fit_resample(x_train2,y_train_pet)\n",
    "\n",
    "y_train_pet.value_counts()"
   ]
  },
  {
   "cell_type": "code",
   "execution_count": 89,
   "metadata": {},
   "outputs": [
    {
     "data": {
      "text/plain": [
       "0.0    9000\n",
       "1.0    8357\n",
       "2.0    1500\n",
       "Name: breed_category, dtype: int64"
      ]
     },
     "execution_count": 89,
     "metadata": {},
     "output_type": "execute_result"
    }
   ],
   "source": [
    "sm_breed=SMOTE(sampling_strategy={2:1500})\n",
    "\n",
    "x_train,y_train_breed = sm_breed.fit_resample(x_train,y_train_breed)\n",
    "\n",
    "y_train_breed.value_counts()"
   ]
  },
  {
   "cell_type": "code",
   "execution_count": 63,
   "metadata": {},
   "outputs": [],
   "source": [
    "from sklearn.decomposition import PCA"
   ]
  },
  {
   "cell_type": "code",
   "execution_count": 68,
   "metadata": {},
   "outputs": [],
   "source": [
    "pca = PCA(n_components=73)"
   ]
  },
  {
   "cell_type": "code",
   "execution_count": 69,
   "metadata": {},
   "outputs": [],
   "source": [
    "x_train=pca.fit_transform(x_train,y_train_breed)"
   ]
  },
  {
   "cell_type": "code",
   "execution_count": 70,
   "metadata": {},
   "outputs": [],
   "source": [
    "x_test = pca.transform(x_test)"
   ]
  },
  {
   "cell_type": "code",
   "execution_count": 71,
   "metadata": {},
   "outputs": [],
   "source": [
    "from xgboost import XGBClassifier"
   ]
  },
  {
   "cell_type": "code",
   "execution_count": 322,
   "metadata": {},
   "outputs": [],
   "source": [
    "from sklearn.model_selection import RandomizedSearchCV"
   ]
  },
  {
   "cell_type": "code",
   "execution_count": 323,
   "metadata": {},
   "outputs": [],
   "source": [
    "xgb = XGBClassifier(objective=\"multi:softmax\")"
   ]
  },
  {
   "cell_type": "code",
   "execution_count": 324,
   "metadata": {},
   "outputs": [],
   "source": [
    "parameters = {\"learning_rate\": [0.3, 0.01,0.1],\n",
    "               \"gamma\" : [ 0.3, 0.5, 1, 1.5, 2,2.2,2.4],\n",
    "               \"max_depth\": [6, 7, 8, 9],\n",
    "               \"colsample_bytree\": [0.3, 0.6, 0.8, 1.0],\n",
    "               \"subsample\": [0.2, 0.4, 0.5,0.6,0.8],\n",
    "               \"reg_alpha\": [0, 0.5, 1],\n",
    "               \"reg_lambda\": [0,1, 1.5, 2],\n",
    "               \"min_child_weight\": [1, 3, 5, 7, 9]\n",
    "              \n",
    "               }"
   ]
  },
  {
   "cell_type": "code",
   "execution_count": 327,
   "metadata": {},
   "outputs": [],
   "source": [
    "xgb_rscv = RandomizedSearchCV(xgb, param_distributions = parameters, scoring = \"f1_micro\",\n",
    "                             cv = 5, verbose = 2, random_state = 1 )"
   ]
  },
  {
   "cell_type": "code",
   "execution_count": 328,
   "metadata": {},
   "outputs": [
    {
     "name": "stdout",
     "output_type": "stream",
     "text": [
      "Fitting 5 folds for each of 10 candidates, totalling 50 fits\n",
      "[CV] subsample=0.8, reg_lambda=2, reg_alpha=0, min_child_weight=5, max_depth=6, learning_rate=0.01, gamma=2.4, colsample_bytree=1.0 \n"
     ]
    },
    {
     "name": "stderr",
     "output_type": "stream",
     "text": [
      "[Parallel(n_jobs=1)]: Using backend SequentialBackend with 1 concurrent workers.\n"
     ]
    },
    {
     "name": "stdout",
     "output_type": "stream",
     "text": [
      "[CV]  subsample=0.8, reg_lambda=2, reg_alpha=0, min_child_weight=5, max_depth=6, learning_rate=0.01, gamma=2.4, colsample_bytree=1.0, total=  12.2s\n",
      "[CV] subsample=0.8, reg_lambda=2, reg_alpha=0, min_child_weight=5, max_depth=6, learning_rate=0.01, gamma=2.4, colsample_bytree=1.0 \n"
     ]
    },
    {
     "name": "stderr",
     "output_type": "stream",
     "text": [
      "[Parallel(n_jobs=1)]: Done   1 out of   1 | elapsed:   12.1s remaining:    0.0s\n"
     ]
    },
    {
     "name": "stdout",
     "output_type": "stream",
     "text": [
      "[CV]  subsample=0.8, reg_lambda=2, reg_alpha=0, min_child_weight=5, max_depth=6, learning_rate=0.01, gamma=2.4, colsample_bytree=1.0, total=  12.4s\n",
      "[CV] subsample=0.8, reg_lambda=2, reg_alpha=0, min_child_weight=5, max_depth=6, learning_rate=0.01, gamma=2.4, colsample_bytree=1.0 \n",
      "[CV]  subsample=0.8, reg_lambda=2, reg_alpha=0, min_child_weight=5, max_depth=6, learning_rate=0.01, gamma=2.4, colsample_bytree=1.0, total=  14.6s\n",
      "[CV] subsample=0.8, reg_lambda=2, reg_alpha=0, min_child_weight=5, max_depth=6, learning_rate=0.01, gamma=2.4, colsample_bytree=1.0 \n",
      "[CV]  subsample=0.8, reg_lambda=2, reg_alpha=0, min_child_weight=5, max_depth=6, learning_rate=0.01, gamma=2.4, colsample_bytree=1.0, total=  16.1s\n",
      "[CV] subsample=0.8, reg_lambda=2, reg_alpha=0, min_child_weight=5, max_depth=6, learning_rate=0.01, gamma=2.4, colsample_bytree=1.0 \n",
      "[CV]  subsample=0.8, reg_lambda=2, reg_alpha=0, min_child_weight=5, max_depth=6, learning_rate=0.01, gamma=2.4, colsample_bytree=1.0, total=  16.0s\n",
      "[CV] subsample=0.6, reg_lambda=1, reg_alpha=0, min_child_weight=1, max_depth=9, learning_rate=0.01, gamma=0.3, colsample_bytree=1.0 \n",
      "[CV]  subsample=0.6, reg_lambda=1, reg_alpha=0, min_child_weight=1, max_depth=9, learning_rate=0.01, gamma=0.3, colsample_bytree=1.0, total=  20.6s\n",
      "[CV] subsample=0.6, reg_lambda=1, reg_alpha=0, min_child_weight=1, max_depth=9, learning_rate=0.01, gamma=0.3, colsample_bytree=1.0 \n",
      "[CV]  subsample=0.6, reg_lambda=1, reg_alpha=0, min_child_weight=1, max_depth=9, learning_rate=0.01, gamma=0.3, colsample_bytree=1.0, total=  21.7s\n",
      "[CV] subsample=0.6, reg_lambda=1, reg_alpha=0, min_child_weight=1, max_depth=9, learning_rate=0.01, gamma=0.3, colsample_bytree=1.0 \n",
      "[CV]  subsample=0.6, reg_lambda=1, reg_alpha=0, min_child_weight=1, max_depth=9, learning_rate=0.01, gamma=0.3, colsample_bytree=1.0, total=  20.5s\n",
      "[CV] subsample=0.6, reg_lambda=1, reg_alpha=0, min_child_weight=1, max_depth=9, learning_rate=0.01, gamma=0.3, colsample_bytree=1.0 \n",
      "[CV]  subsample=0.6, reg_lambda=1, reg_alpha=0, min_child_weight=1, max_depth=9, learning_rate=0.01, gamma=0.3, colsample_bytree=1.0, total=  21.1s\n",
      "[CV] subsample=0.6, reg_lambda=1, reg_alpha=0, min_child_weight=1, max_depth=9, learning_rate=0.01, gamma=0.3, colsample_bytree=1.0 \n",
      "[CV]  subsample=0.6, reg_lambda=1, reg_alpha=0, min_child_weight=1, max_depth=9, learning_rate=0.01, gamma=0.3, colsample_bytree=1.0, total=  22.2s\n",
      "[CV] subsample=0.5, reg_lambda=1.5, reg_alpha=0.5, min_child_weight=3, max_depth=7, learning_rate=0.01, gamma=0.5, colsample_bytree=0.3 \n",
      "[CV]  subsample=0.5, reg_lambda=1.5, reg_alpha=0.5, min_child_weight=3, max_depth=7, learning_rate=0.01, gamma=0.5, colsample_bytree=0.3, total=   7.8s\n",
      "[CV] subsample=0.5, reg_lambda=1.5, reg_alpha=0.5, min_child_weight=3, max_depth=7, learning_rate=0.01, gamma=0.5, colsample_bytree=0.3 \n",
      "[CV]  subsample=0.5, reg_lambda=1.5, reg_alpha=0.5, min_child_weight=3, max_depth=7, learning_rate=0.01, gamma=0.5, colsample_bytree=0.3, total=   7.6s\n",
      "[CV] subsample=0.5, reg_lambda=1.5, reg_alpha=0.5, min_child_weight=3, max_depth=7, learning_rate=0.01, gamma=0.5, colsample_bytree=0.3 \n",
      "[CV]  subsample=0.5, reg_lambda=1.5, reg_alpha=0.5, min_child_weight=3, max_depth=7, learning_rate=0.01, gamma=0.5, colsample_bytree=0.3, total=   7.4s\n",
      "[CV] subsample=0.5, reg_lambda=1.5, reg_alpha=0.5, min_child_weight=3, max_depth=7, learning_rate=0.01, gamma=0.5, colsample_bytree=0.3 \n",
      "[CV]  subsample=0.5, reg_lambda=1.5, reg_alpha=0.5, min_child_weight=3, max_depth=7, learning_rate=0.01, gamma=0.5, colsample_bytree=0.3, total=   7.4s\n",
      "[CV] subsample=0.5, reg_lambda=1.5, reg_alpha=0.5, min_child_weight=3, max_depth=7, learning_rate=0.01, gamma=0.5, colsample_bytree=0.3 \n",
      "[CV]  subsample=0.5, reg_lambda=1.5, reg_alpha=0.5, min_child_weight=3, max_depth=7, learning_rate=0.01, gamma=0.5, colsample_bytree=0.3, total=   7.8s\n",
      "[CV] subsample=0.5, reg_lambda=1, reg_alpha=0, min_child_weight=9, max_depth=8, learning_rate=0.3, gamma=2.4, colsample_bytree=1.0 \n",
      "[CV]  subsample=0.5, reg_lambda=1, reg_alpha=0, min_child_weight=9, max_depth=8, learning_rate=0.3, gamma=2.4, colsample_bytree=1.0, total=  13.7s\n",
      "[CV] subsample=0.5, reg_lambda=1, reg_alpha=0, min_child_weight=9, max_depth=8, learning_rate=0.3, gamma=2.4, colsample_bytree=1.0 \n",
      "[CV]  subsample=0.5, reg_lambda=1, reg_alpha=0, min_child_weight=9, max_depth=8, learning_rate=0.3, gamma=2.4, colsample_bytree=1.0, total=  13.8s\n",
      "[CV] subsample=0.5, reg_lambda=1, reg_alpha=0, min_child_weight=9, max_depth=8, learning_rate=0.3, gamma=2.4, colsample_bytree=1.0 \n",
      "[CV]  subsample=0.5, reg_lambda=1, reg_alpha=0, min_child_weight=9, max_depth=8, learning_rate=0.3, gamma=2.4, colsample_bytree=1.0, total=  13.1s\n",
      "[CV] subsample=0.5, reg_lambda=1, reg_alpha=0, min_child_weight=9, max_depth=8, learning_rate=0.3, gamma=2.4, colsample_bytree=1.0 \n",
      "[CV]  subsample=0.5, reg_lambda=1, reg_alpha=0, min_child_weight=9, max_depth=8, learning_rate=0.3, gamma=2.4, colsample_bytree=1.0, total=  13.0s\n",
      "[CV] subsample=0.5, reg_lambda=1, reg_alpha=0, min_child_weight=9, max_depth=8, learning_rate=0.3, gamma=2.4, colsample_bytree=1.0 \n",
      "[CV]  subsample=0.5, reg_lambda=1, reg_alpha=0, min_child_weight=9, max_depth=8, learning_rate=0.3, gamma=2.4, colsample_bytree=1.0, total=  13.4s\n",
      "[CV] subsample=0.5, reg_lambda=2, reg_alpha=0, min_child_weight=9, max_depth=8, learning_rate=0.1, gamma=2.4, colsample_bytree=0.6 \n",
      "[CV]  subsample=0.5, reg_lambda=2, reg_alpha=0, min_child_weight=9, max_depth=8, learning_rate=0.1, gamma=2.4, colsample_bytree=0.6, total=  10.0s\n",
      "[CV] subsample=0.5, reg_lambda=2, reg_alpha=0, min_child_weight=9, max_depth=8, learning_rate=0.1, gamma=2.4, colsample_bytree=0.6 \n",
      "[CV]  subsample=0.5, reg_lambda=2, reg_alpha=0, min_child_weight=9, max_depth=8, learning_rate=0.1, gamma=2.4, colsample_bytree=0.6, total=  10.3s\n",
      "[CV] subsample=0.5, reg_lambda=2, reg_alpha=0, min_child_weight=9, max_depth=8, learning_rate=0.1, gamma=2.4, colsample_bytree=0.6 \n",
      "[CV]  subsample=0.5, reg_lambda=2, reg_alpha=0, min_child_weight=9, max_depth=8, learning_rate=0.1, gamma=2.4, colsample_bytree=0.6, total=  10.9s\n",
      "[CV] subsample=0.5, reg_lambda=2, reg_alpha=0, min_child_weight=9, max_depth=8, learning_rate=0.1, gamma=2.4, colsample_bytree=0.6 \n",
      "[CV]  subsample=0.5, reg_lambda=2, reg_alpha=0, min_child_weight=9, max_depth=8, learning_rate=0.1, gamma=2.4, colsample_bytree=0.6, total=  10.2s\n",
      "[CV] subsample=0.5, reg_lambda=2, reg_alpha=0, min_child_weight=9, max_depth=8, learning_rate=0.1, gamma=2.4, colsample_bytree=0.6 \n",
      "[CV]  subsample=0.5, reg_lambda=2, reg_alpha=0, min_child_weight=9, max_depth=8, learning_rate=0.1, gamma=2.4, colsample_bytree=0.6, total=  10.6s\n",
      "[CV] subsample=0.8, reg_lambda=1, reg_alpha=0.5, min_child_weight=5, max_depth=6, learning_rate=0.01, gamma=2.4, colsample_bytree=0.8 \n",
      "[CV]  subsample=0.8, reg_lambda=1, reg_alpha=0.5, min_child_weight=5, max_depth=6, learning_rate=0.01, gamma=2.4, colsample_bytree=0.8, total=  14.3s\n",
      "[CV] subsample=0.8, reg_lambda=1, reg_alpha=0.5, min_child_weight=5, max_depth=6, learning_rate=0.01, gamma=2.4, colsample_bytree=0.8 \n",
      "[CV]  subsample=0.8, reg_lambda=1, reg_alpha=0.5, min_child_weight=5, max_depth=6, learning_rate=0.01, gamma=2.4, colsample_bytree=0.8, total=  14.2s\n",
      "[CV] subsample=0.8, reg_lambda=1, reg_alpha=0.5, min_child_weight=5, max_depth=6, learning_rate=0.01, gamma=2.4, colsample_bytree=0.8 \n",
      "[CV]  subsample=0.8, reg_lambda=1, reg_alpha=0.5, min_child_weight=5, max_depth=6, learning_rate=0.01, gamma=2.4, colsample_bytree=0.8, total=  14.4s\n",
      "[CV] subsample=0.8, reg_lambda=1, reg_alpha=0.5, min_child_weight=5, max_depth=6, learning_rate=0.01, gamma=2.4, colsample_bytree=0.8 \n",
      "[CV]  subsample=0.8, reg_lambda=1, reg_alpha=0.5, min_child_weight=5, max_depth=6, learning_rate=0.01, gamma=2.4, colsample_bytree=0.8, total=  14.2s\n",
      "[CV] subsample=0.8, reg_lambda=1, reg_alpha=0.5, min_child_weight=5, max_depth=6, learning_rate=0.01, gamma=2.4, colsample_bytree=0.8 \n",
      "[CV]  subsample=0.8, reg_lambda=1, reg_alpha=0.5, min_child_weight=5, max_depth=6, learning_rate=0.01, gamma=2.4, colsample_bytree=0.8, total=  13.8s\n",
      "[CV] subsample=0.2, reg_lambda=0, reg_alpha=0.5, min_child_weight=5, max_depth=9, learning_rate=0.1, gamma=2.2, colsample_bytree=0.3 \n",
      "[CV]  subsample=0.2, reg_lambda=0, reg_alpha=0.5, min_child_weight=5, max_depth=9, learning_rate=0.1, gamma=2.2, colsample_bytree=0.3, total=   5.3s\n",
      "[CV] subsample=0.2, reg_lambda=0, reg_alpha=0.5, min_child_weight=5, max_depth=9, learning_rate=0.1, gamma=2.2, colsample_bytree=0.3 \n"
     ]
    },
    {
     "name": "stdout",
     "output_type": "stream",
     "text": [
      "[CV]  subsample=0.2, reg_lambda=0, reg_alpha=0.5, min_child_weight=5, max_depth=9, learning_rate=0.1, gamma=2.2, colsample_bytree=0.3, total=   5.4s\n",
      "[CV] subsample=0.2, reg_lambda=0, reg_alpha=0.5, min_child_weight=5, max_depth=9, learning_rate=0.1, gamma=2.2, colsample_bytree=0.3 \n",
      "[CV]  subsample=0.2, reg_lambda=0, reg_alpha=0.5, min_child_weight=5, max_depth=9, learning_rate=0.1, gamma=2.2, colsample_bytree=0.3, total=   5.4s\n",
      "[CV] subsample=0.2, reg_lambda=0, reg_alpha=0.5, min_child_weight=5, max_depth=9, learning_rate=0.1, gamma=2.2, colsample_bytree=0.3 \n",
      "[CV]  subsample=0.2, reg_lambda=0, reg_alpha=0.5, min_child_weight=5, max_depth=9, learning_rate=0.1, gamma=2.2, colsample_bytree=0.3, total=   5.6s\n",
      "[CV] subsample=0.2, reg_lambda=0, reg_alpha=0.5, min_child_weight=5, max_depth=9, learning_rate=0.1, gamma=2.2, colsample_bytree=0.3 \n",
      "[CV]  subsample=0.2, reg_lambda=0, reg_alpha=0.5, min_child_weight=5, max_depth=9, learning_rate=0.1, gamma=2.2, colsample_bytree=0.3, total=   5.5s\n",
      "[CV] subsample=0.6, reg_lambda=1, reg_alpha=1, min_child_weight=1, max_depth=6, learning_rate=0.01, gamma=2.4, colsample_bytree=1.0 \n",
      "[CV]  subsample=0.6, reg_lambda=1, reg_alpha=1, min_child_weight=1, max_depth=6, learning_rate=0.01, gamma=2.4, colsample_bytree=1.0, total=  16.6s\n",
      "[CV] subsample=0.6, reg_lambda=1, reg_alpha=1, min_child_weight=1, max_depth=6, learning_rate=0.01, gamma=2.4, colsample_bytree=1.0 \n",
      "[CV]  subsample=0.6, reg_lambda=1, reg_alpha=1, min_child_weight=1, max_depth=6, learning_rate=0.01, gamma=2.4, colsample_bytree=1.0, total=  17.7s\n",
      "[CV] subsample=0.6, reg_lambda=1, reg_alpha=1, min_child_weight=1, max_depth=6, learning_rate=0.01, gamma=2.4, colsample_bytree=1.0 \n",
      "[CV]  subsample=0.6, reg_lambda=1, reg_alpha=1, min_child_weight=1, max_depth=6, learning_rate=0.01, gamma=2.4, colsample_bytree=1.0, total=  18.8s\n",
      "[CV] subsample=0.6, reg_lambda=1, reg_alpha=1, min_child_weight=1, max_depth=6, learning_rate=0.01, gamma=2.4, colsample_bytree=1.0 \n",
      "[CV]  subsample=0.6, reg_lambda=1, reg_alpha=1, min_child_weight=1, max_depth=6, learning_rate=0.01, gamma=2.4, colsample_bytree=1.0, total=  17.3s\n",
      "[CV] subsample=0.6, reg_lambda=1, reg_alpha=1, min_child_weight=1, max_depth=6, learning_rate=0.01, gamma=2.4, colsample_bytree=1.0 \n",
      "[CV]  subsample=0.6, reg_lambda=1, reg_alpha=1, min_child_weight=1, max_depth=6, learning_rate=0.01, gamma=2.4, colsample_bytree=1.0, total=  17.8s\n",
      "[CV] subsample=0.8, reg_lambda=1, reg_alpha=0.5, min_child_weight=7, max_depth=6, learning_rate=0.1, gamma=2.2, colsample_bytree=0.3 \n",
      "[CV]  subsample=0.8, reg_lambda=1, reg_alpha=0.5, min_child_weight=7, max_depth=6, learning_rate=0.1, gamma=2.2, colsample_bytree=0.3, total=   8.7s\n",
      "[CV] subsample=0.8, reg_lambda=1, reg_alpha=0.5, min_child_weight=7, max_depth=6, learning_rate=0.1, gamma=2.2, colsample_bytree=0.3 \n",
      "[CV]  subsample=0.8, reg_lambda=1, reg_alpha=0.5, min_child_weight=7, max_depth=6, learning_rate=0.1, gamma=2.2, colsample_bytree=0.3, total=   8.7s\n",
      "[CV] subsample=0.8, reg_lambda=1, reg_alpha=0.5, min_child_weight=7, max_depth=6, learning_rate=0.1, gamma=2.2, colsample_bytree=0.3 \n",
      "[CV]  subsample=0.8, reg_lambda=1, reg_alpha=0.5, min_child_weight=7, max_depth=6, learning_rate=0.1, gamma=2.2, colsample_bytree=0.3, total=   8.8s\n",
      "[CV] subsample=0.8, reg_lambda=1, reg_alpha=0.5, min_child_weight=7, max_depth=6, learning_rate=0.1, gamma=2.2, colsample_bytree=0.3 \n",
      "[CV]  subsample=0.8, reg_lambda=1, reg_alpha=0.5, min_child_weight=7, max_depth=6, learning_rate=0.1, gamma=2.2, colsample_bytree=0.3, total=   8.8s\n",
      "[CV] subsample=0.8, reg_lambda=1, reg_alpha=0.5, min_child_weight=7, max_depth=6, learning_rate=0.1, gamma=2.2, colsample_bytree=0.3 \n",
      "[CV]  subsample=0.8, reg_lambda=1, reg_alpha=0.5, min_child_weight=7, max_depth=6, learning_rate=0.1, gamma=2.2, colsample_bytree=0.3, total=   8.8s\n",
      "[CV] subsample=0.2, reg_lambda=0, reg_alpha=0.5, min_child_weight=7, max_depth=9, learning_rate=0.01, gamma=2.4, colsample_bytree=0.6 \n",
      "[CV]  subsample=0.2, reg_lambda=0, reg_alpha=0.5, min_child_weight=7, max_depth=9, learning_rate=0.01, gamma=2.4, colsample_bytree=0.6, total=   7.6s\n",
      "[CV] subsample=0.2, reg_lambda=0, reg_alpha=0.5, min_child_weight=7, max_depth=9, learning_rate=0.01, gamma=2.4, colsample_bytree=0.6 \n",
      "[CV]  subsample=0.2, reg_lambda=0, reg_alpha=0.5, min_child_weight=7, max_depth=9, learning_rate=0.01, gamma=2.4, colsample_bytree=0.6, total=   7.6s\n",
      "[CV] subsample=0.2, reg_lambda=0, reg_alpha=0.5, min_child_weight=7, max_depth=9, learning_rate=0.01, gamma=2.4, colsample_bytree=0.6 \n",
      "[CV]  subsample=0.2, reg_lambda=0, reg_alpha=0.5, min_child_weight=7, max_depth=9, learning_rate=0.01, gamma=2.4, colsample_bytree=0.6, total=   9.1s\n",
      "[CV] subsample=0.2, reg_lambda=0, reg_alpha=0.5, min_child_weight=7, max_depth=9, learning_rate=0.01, gamma=2.4, colsample_bytree=0.6 \n",
      "[CV]  subsample=0.2, reg_lambda=0, reg_alpha=0.5, min_child_weight=7, max_depth=9, learning_rate=0.01, gamma=2.4, colsample_bytree=0.6, total=   7.6s\n",
      "[CV] subsample=0.2, reg_lambda=0, reg_alpha=0.5, min_child_weight=7, max_depth=9, learning_rate=0.01, gamma=2.4, colsample_bytree=0.6 \n",
      "[CV]  subsample=0.2, reg_lambda=0, reg_alpha=0.5, min_child_weight=7, max_depth=9, learning_rate=0.01, gamma=2.4, colsample_bytree=0.6, total=   7.6s\n"
     ]
    },
    {
     "name": "stderr",
     "output_type": "stream",
     "text": [
      "[Parallel(n_jobs=1)]: Done  50 out of  50 | elapsed: 10.1min finished\n"
     ]
    },
    {
     "data": {
      "text/plain": [
       "RandomizedSearchCV(cv=5, error_score=nan,\n",
       "                   estimator=XGBClassifier(base_score=None, booster=None,\n",
       "                                           colsample_bylevel=None,\n",
       "                                           colsample_bynode=None,\n",
       "                                           colsample_bytree=None, gamma=None,\n",
       "                                           gpu_id=None, importance_type='gain',\n",
       "                                           interaction_constraints=None,\n",
       "                                           learning_rate=None,\n",
       "                                           max_delta_step=None, max_depth=None,\n",
       "                                           min_child_weight=None, missing=nan,\n",
       "                                           monotone_constraints=None,\n",
       "                                           n...\n",
       "                   param_distributions={'colsample_bytree': [0.3, 0.6, 0.8,\n",
       "                                                             1.0],\n",
       "                                        'gamma': [0.3, 0.5, 1, 1.5, 2, 2.2,\n",
       "                                                  2.4],\n",
       "                                        'learning_rate': [0.3, 0.01, 0.1],\n",
       "                                        'max_depth': [6, 7, 8, 9],\n",
       "                                        'min_child_weight': [1, 3, 5, 7, 9],\n",
       "                                        'reg_alpha': [0, 0.5, 1],\n",
       "                                        'reg_lambda': [0, 1, 1.5, 2],\n",
       "                                        'subsample': [0.2, 0.4, 0.5, 0.6, 0.8]},\n",
       "                   pre_dispatch='2*n_jobs', random_state=1, refit=True,\n",
       "                   return_train_score=False, scoring='f1_micro', verbose=2)"
      ]
     },
     "execution_count": 328,
     "metadata": {},
     "output_type": "execute_result"
    }
   ],
   "source": [
    "xgb_rscv.fit(x_train,y_train_breed)"
   ]
  },
  {
   "cell_type": "code",
   "execution_count": 329,
   "metadata": {},
   "outputs": [
    {
     "name": "stdout",
     "output_type": "stream",
     "text": [
      "0.8873634476201564\n",
      "{'subsample': 0.5, 'reg_lambda': 2, 'reg_alpha': 0, 'min_child_weight': 9, 'max_depth': 8, 'learning_rate': 0.1, 'gamma': 2.4, 'colsample_bytree': 0.6}\n"
     ]
    }
   ],
   "source": [
    "print(xgb_rscv.best_score_)\n",
    "print(xgb_rscv.best_params_)"
   ]
  },
  {
   "cell_type": "code",
   "execution_count": 111,
   "metadata": {},
   "outputs": [],
   "source": [
    "\n",
    "\n",
    "xgb = XGBClassifier(objective=\"multi:softmax\",max_depth= 8, gamma =2.2 ,learning_rate=0.01 ,colsample_bytree=1.0 ,subsample=0.8 , reg_alpha=0.5 ,reg_lambda= 2,min_child_weight= 3,random_state=101)\n",
    "\n"
   ]
  },
  {
   "cell_type": "code",
   "execution_count": 112,
   "metadata": {
    "scrolled": true
   },
   "outputs": [
    {
     "data": {
      "text/plain": [
       "XGBClassifier(base_score=0.5, booster=None, colsample_bylevel=1,\n",
       "              colsample_bynode=1, colsample_bytree=1.0, gamma=2.2, gpu_id=-1,\n",
       "              importance_type='gain', interaction_constraints=None,\n",
       "              learning_rate=0.01, max_delta_step=0, max_depth=8,\n",
       "              min_child_weight=3, missing=nan, monotone_constraints=None,\n",
       "              n_estimators=100, n_jobs=0, num_parallel_tree=1,\n",
       "              objective='multi:softprob', random_state=101, reg_alpha=0.5,\n",
       "              reg_lambda=2, scale_pos_weight=None, subsample=0.8,\n",
       "              tree_method=None, validate_parameters=False, verbosity=None)"
      ]
     },
     "execution_count": 112,
     "metadata": {},
     "output_type": "execute_result"
    }
   ],
   "source": [
    "xgb.fit(x_train,y_train_breed)"
   ]
  },
  {
   "cell_type": "code",
   "execution_count": 113,
   "metadata": {},
   "outputs": [],
   "source": [
    "pred_breed= xgb.predict(x_test)"
   ]
  },
  {
   "cell_type": "code",
   "execution_count": 114,
   "metadata": {},
   "outputs": [],
   "source": [
    "xgb1 = XGBClassifier(objective=\"multi:softmax\",max_depth=8,random_state=101)"
   ]
  },
  {
   "cell_type": "code",
   "execution_count": 115,
   "metadata": {},
   "outputs": [
    {
     "data": {
      "text/plain": [
       "XGBClassifier(base_score=0.5, booster=None, colsample_bylevel=1,\n",
       "              colsample_bynode=1, colsample_bytree=1, gamma=0, gpu_id=-1,\n",
       "              importance_type='gain', interaction_constraints=None,\n",
       "              learning_rate=0.300000012, max_delta_step=0, max_depth=8,\n",
       "              min_child_weight=1, missing=nan, monotone_constraints=None,\n",
       "              n_estimators=100, n_jobs=0, num_parallel_tree=1,\n",
       "              objective='multi:softprob', random_state=101, reg_alpha=0,\n",
       "              reg_lambda=1, scale_pos_weight=None, subsample=1,\n",
       "              tree_method=None, validate_parameters=False, verbosity=None)"
      ]
     },
     "execution_count": 115,
     "metadata": {},
     "output_type": "execute_result"
    }
   ],
   "source": [
    "xgb1.fit(x_train2,y_train_pet)"
   ]
  },
  {
   "cell_type": "code",
   "execution_count": 116,
   "metadata": {},
   "outputs": [],
   "source": [
    "pred_pet = xgb1.predict(x_test2)"
   ]
  },
  {
   "cell_type": "code",
   "execution_count": 117,
   "metadata": {},
   "outputs": [],
   "source": [
    "pd.DataFrame({'pet_id':test[\"pet_id\"],'breed_category':pred_breed,'pet_category':pred_pet}).to_csv('result.csv',index=False)"
   ]
  },
  {
   "cell_type": "code",
   "execution_count": null,
   "metadata": {},
   "outputs": [],
   "source": []
  }
 ],
 "metadata": {
  "kernelspec": {
   "display_name": "Python 3",
   "language": "python",
   "name": "python3"
  },
  "language_info": {
   "codemirror_mode": {
    "name": "ipython",
    "version": 3
   },
   "file_extension": ".py",
   "mimetype": "text/x-python",
   "name": "python",
   "nbconvert_exporter": "python",
   "pygments_lexer": "ipython3",
   "version": "3.6.8"
  }
 },
 "nbformat": 4,
 "nbformat_minor": 4
}
